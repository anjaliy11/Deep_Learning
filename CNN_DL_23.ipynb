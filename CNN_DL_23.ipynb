{
 "cells": [
  {
   "cell_type": "code",
   "id": "initial_id",
   "metadata": {
    "collapsed": true,
    "ExecuteTime": {
     "end_time": "2025-07-19T06:45:10.391773Z",
     "start_time": "2025-07-19T06:44:20.095223Z"
    }
   },
   "source": [
    "import tensorflow as tf\n",
    "from tensorflow.keras import datasets, layers, models\n",
    "import matplotlib.pyplot as plt\n",
    "import numpy as np"
   ],
   "outputs": [],
   "execution_count": 5
  },
  {
   "metadata": {
    "ExecuteTime": {
     "end_time": "2025-07-19T06:52:29.577340Z",
     "start_time": "2025-07-19T06:52:16.653009Z"
    }
   },
   "cell_type": "code",
   "source": [
    "(X_train, y_train), (X_test, y_test)=datasets.cifar10.load_data()\n",
    "X_train.shape"
   ],
   "id": "2753d70f951d36fa",
   "outputs": [
    {
     "data": {
      "text/plain": [
       "(50000, 32, 32, 3)"
      ]
     },
     "execution_count": 7,
     "metadata": {},
     "output_type": "execute_result"
    }
   ],
   "execution_count": 7
  },
  {
   "metadata": {
    "ExecuteTime": {
     "end_time": "2025-07-19T06:58:10.396100Z",
     "start_time": "2025-07-19T06:58:10.070765Z"
    }
   },
   "cell_type": "code",
   "source": "X_test.shape",
   "id": "bc1bc5f09cbcde47",
   "outputs": [
    {
     "data": {
      "text/plain": [
       "(10000, 32, 32, 3)"
      ]
     },
     "execution_count": 8,
     "metadata": {},
     "output_type": "execute_result"
    }
   ],
   "execution_count": 8
  },
  {
   "metadata": {
    "ExecuteTime": {
     "end_time": "2025-07-19T06:58:24.972477Z",
     "start_time": "2025-07-19T06:58:24.932705Z"
    }
   },
   "cell_type": "code",
   "source": "y_train.shape",
   "id": "4904418b11b66315",
   "outputs": [
    {
     "data": {
      "text/plain": [
       "(50000, 1)"
      ]
     },
     "execution_count": 10,
     "metadata": {},
     "output_type": "execute_result"
    }
   ],
   "execution_count": 10
  },
  {
   "metadata": {
    "ExecuteTime": {
     "end_time": "2025-07-19T06:58:48.205984Z",
     "start_time": "2025-07-19T06:58:48.187012Z"
    }
   },
   "cell_type": "code",
   "source": "y_train[:5]",
   "id": "6016c4d5a2e805e3",
   "outputs": [
    {
     "data": {
      "text/plain": [
       "array([6, 9, 9, 4, 1], dtype=uint8)"
      ]
     },
     "execution_count": 17,
     "metadata": {},
     "output_type": "execute_result"
    }
   ],
   "execution_count": 17
  },
  {
   "metadata": {
    "ExecuteTime": {
     "end_time": "2025-07-19T06:58:34.004879Z",
     "start_time": "2025-07-19T06:58:33.985847Z"
    }
   },
   "cell_type": "code",
   "source": [
    "y_train = y_train.reshape(-1,)\n",
    "y_train[:5]"
   ],
   "id": "d7e46aff47007940",
   "outputs": [
    {
     "data": {
      "text/plain": [
       "array([6, 9, 9, 4, 1], dtype=uint8)"
      ]
     },
     "execution_count": 12,
     "metadata": {},
     "output_type": "execute_result"
    }
   ],
   "execution_count": 12
  },
  {
   "metadata": {
    "ExecuteTime": {
     "end_time": "2025-07-19T06:58:36.851754Z",
     "start_time": "2025-07-19T06:58:36.842725Z"
    }
   },
   "cell_type": "code",
   "source": "y_test = y_test.reshape(-1,)",
   "id": "87750de7fa9f97de",
   "outputs": [],
   "execution_count": 13
  },
  {
   "metadata": {
    "ExecuteTime": {
     "end_time": "2025-07-19T06:58:39.748260Z",
     "start_time": "2025-07-19T06:58:39.723086Z"
    }
   },
   "cell_type": "code",
   "source": "classes = [\"airplane\",\"automobile\",\"bird\",\"cat\",\"deer\",\"dog\",\"frog\",\"horse\",\"ship\",\"truck\"]",
   "id": "f30962f1216c705",
   "outputs": [],
   "execution_count": 14
  },
  {
   "metadata": {
    "ExecuteTime": {
     "end_time": "2025-07-19T06:58:49.831330Z",
     "start_time": "2025-07-19T06:58:49.804860Z"
    }
   },
   "cell_type": "code",
   "source": [
    "def plot_sample(X,y,index):\n",
    "    plt.figure(figsize = (15,2))\n",
    "    plt.imshow(X[index])\n",
    "    plt.xlabel(classes[y[index]])"
   ],
   "id": "e67d41eadfef54b7",
   "outputs": [],
   "execution_count": 18
  },
  {
   "metadata": {
    "ExecuteTime": {
     "end_time": "2025-07-19T06:58:57.382090Z",
     "start_time": "2025-07-19T06:58:54.809932Z"
    }
   },
   "cell_type": "code",
   "source": "plot_sample(X_train,y_train,0)",
   "id": "8f1c66f2a0d7b7c4",
   "outputs": [
    {
     "data": {
      "text/plain": [
       "<Figure size 1500x200 with 1 Axes>"
      ],
      "image/png": "[encoded data removed]"
     },
     "metadata": {},
     "output_type": "display_data"
    }
   ],
   "execution_count": 19
  },
  {
   "metadata": {
    "ExecuteTime": {
     "end_time": "2025-07-19T06:59:02.994146Z",
     "start_time": "2025-07-19T06:59:02.635738Z"
    }
   },
   "cell_type": "code",
   "source": "plot_sample(X_train, y_train, 1)",
   "id": "ccfb8cec9232dd57",
   "outputs": [
    {
     "data": {
      "text/plain": [
       "<Figure size 1500x200 with 1 Axes>"
      ],
      "image/png": "[encoded data removed]"
     },
     "metadata": {},
     "output_type": "display_data"
    }
   ],
   "execution_count": 20
  },
  {
   "metadata": {
    "ExecuteTime": {
     "end_time": "2025-07-19T06:59:13.475994Z",
     "start_time": "2025-07-19T06:59:05.913036Z"
    }
   },
   "cell_type": "code",
   "source": [
    "X_train = X_train / 255.0\n",
    "X_test = X_test / 255.0"
   ],
   "id": "f06ddc96f686885",
   "outputs": [],
   "execution_count": 21
  },
  {
   "metadata": {
    "ExecuteTime": {
     "end_time": "2025-07-19T07:14:59.569486Z",
     "start_time": "2025-07-19T07:00:30.029754Z"
    }
   },
   "cell_type": "code",
   "source": [
    "from tensorflow.keras import models, layers, Input\n",
    "\n",
    "ann = models.Sequential([\n",
    "    Input(shape=(32, 32, 3)),\n",
    "    layers.Flatten(),\n",
    "    layers.Dense(3000, activation='relu'),\n",
    "    layers.Dense(1000, activation='relu'),\n",
    "    layers.Dense(10, activation='softmax')\n",
    "])\n",
    "\n",
    "ann.compile(optimizer='SGD',\n",
    "            loss='sparse_categorical_crossentropy',\n",
    "            metrics=['accuracy'])\n",
    "\n",
    "ann.fit(X_train, y_train, epochs=5)\n"
   ],
   "id": "3fa381f1615b9f66",
   "outputs": [
    {
     "name": "stdout",
     "output_type": "stream",
     "text": [
      "Epoch 1/5\n",
      "\u001B[1m1563/1563\u001B[0m \u001B[32m━━━━━━━━━━━━━━━━━━━━\u001B[0m\u001B[37m\u001B[0m \u001B[1m149s\u001B[0m 93ms/step - accuracy: 0.3076 - loss: 1.9338\n",
      "Epoch 2/5\n",
      "\u001B[1m1563/1563\u001B[0m \u001B[32m━━━━━━━━━━━━━━━━━━━━\u001B[0m\u001B[37m\u001B[0m \u001B[1m143s\u001B[0m 91ms/step - accuracy: 0.4172 - loss: 1.6474\n",
      "Epoch 3/5\n",
      "\u001B[1m1563/1563\u001B[0m \u001B[32m━━━━━━━━━━━━━━━━━━━━\u001B[0m\u001B[37m\u001B[0m \u001B[1m188s\u001B[0m 120ms/step - accuracy: 0.4496 - loss: 1.5497\n",
      "Epoch 4/5\n",
      "\u001B[1m1563/1563\u001B[0m \u001B[32m━━━━━━━━━━━━━━━━━━━━\u001B[0m\u001B[37m\u001B[0m \u001B[1m162s\u001B[0m 104ms/step - accuracy: 0.4759 - loss: 1.4891\n",
      "Epoch 5/5\n",
      "\u001B[1m1563/1563\u001B[0m \u001B[32m━━━━━━━━━━━━━━━━━━━━\u001B[0m\u001B[37m\u001B[0m \u001B[1m193s\u001B[0m 123ms/step - accuracy: 0.4932 - loss: 1.4330\n"
     ]
    },
    {
     "data": {
      "text/plain": [
       "<keras.src.callbacks.history.History at 0x1be2326bec0>"
      ]
     },
     "execution_count": 23,
     "metadata": {},
     "output_type": "execute_result"
    }
   ],
   "execution_count": 23
  },
  {
   "metadata": {
    "ExecuteTime": {
     "end_time": "2025-07-19T06:45:10.924154800Z",
     "start_time": "2025-07-18T05:10:56.268171Z"
    }
   },
   "cell_type": "code",
   "source": [
    "import sklearn\n",
    "\n",
    "\n",
    "from sklearn.metrics import confusion_matrix, classification_report\n",
    "import numpy as np\n",
    "y_pred = ann.predict(X_test)\n",
    "y_pred_classes = [np.argmax(element) for element in y_pred]\n",
    "\n",
    "print(\"Classification Report: \\n\", classification_report(y_test,y_pred_classes))"
   ],
   "id": "39fb28d402c02a4b",
   "outputs": [
    {
     "name": "stdout",
     "output_type": "stream",
     "text": [
      "\u001B[1m313/313\u001B[0m \u001B[32m━━━━━━━━━━━━━━━━━━━━\u001B[0m\u001B[37m\u001B[0m \u001B[1m35s\u001B[0m 106ms/step\n",
      "Classification Report: \n",
      "               precision    recall  f1-score   support\n",
      "\n",
      "           0       0.35      0.80      0.49      1000\n",
      "           1       0.54      0.72      0.61      1000\n",
      "           2       0.49      0.13      0.20      1000\n",
      "           3       0.39      0.20      0.26      1000\n",
      "           4       0.45      0.42      0.43      1000\n",
      "           5       0.32      0.51      0.40      1000\n",
      "           6       0.46      0.67      0.54      1000\n",
      "           7       0.67      0.40      0.50      1000\n",
      "           8       0.81      0.29      0.43      1000\n",
      "           9       0.62      0.43      0.51      1000\n",
      "\n",
      "    accuracy                           0.46     10000\n",
      "   macro avg       0.51      0.46      0.44     10000\n",
      "weighted avg       0.51      0.46      0.44     10000\n",
      "\n"
     ]
    }
   ],
   "execution_count": 20
  },
  {
   "metadata": {
    "ExecuteTime": {
     "end_time": "2025-07-19T06:45:10.925669200Z",
     "start_time": "2025-07-18T05:12:47.377678Z"
    }
   },
   "cell_type": "code",
   "source": [
    "cnn= models.Sequential([\n",
    "    layers.Conv2D(filters=32, kernel_size=(3,3), activation='relu', input_shape=(32,32,3)),layers.MaxPooling2D((2,2)),\n",
    "    layers.Conv2D(filters=64, kernel_size=(3,3), activation='relu'),layers.MaxPooling2D((2,2)),\n",
    "    layers.Flatten(),\n",
    "    layers.Dense(64, activation='relu'),\n",
    "    layers.Dense(10, activation='softmax')\n",
    "])"
   ],
   "id": "c9b91519c6ea27ce",
   "outputs": [
    {
     "name": "stderr",
     "output_type": "stream",
     "text": [
      "C:\\Users\\anjal\\OneDrive\\Documents\\Deep-learning\\.venv\\Lib\\site-packages\\keras\\src\\layers\\convolutional\\base_conv.py:113: UserWarning: Do not pass an `input_shape`/`input_dim` argument to a layer. When using Sequential models, prefer using an `Input(shape)` object as the first layer in the model instead.\n",
      "  super().__init__(activity_regularizer=activity_regularizer, **kwargs)\n"
     ]
    }
   ],
   "execution_count": 21
  },
  {
   "metadata": {
    "ExecuteTime": {
     "end_time": "2025-07-19T06:45:10.926684900Z",
     "start_time": "2025-07-18T05:12:57.945085Z"
    }
   },
   "cell_type": "code",
   "source": [
    "cnn.compile(optimizer='adam',\n",
    "            loss='sparse_categorical_crossentropy',\n",
    "            metrics=['accuracy'])"
   ],
   "id": "fac6f2045061572",
   "outputs": [],
   "execution_count": 22
  },
  {
   "metadata": {
    "ExecuteTime": {
     "end_time": "2025-07-19T06:45:10.930216700Z",
     "start_time": "2025-07-18T05:16:12.025334Z"
    }
   },
   "cell_type": "code",
   "source": "cnn.fit(X_train, y_train,epochs=10)",
   "id": "fe6a0fb9ecb35490",
   "outputs": [
    {
     "name": "stdout",
     "output_type": "stream",
     "text": [
      "Epoch 1/10\n",
      "\u001B[1m1563/1563\u001B[0m \u001B[32m━━━━━━━━━━━━━━━━━━━━\u001B[0m\u001B[37m\u001B[0m \u001B[1m248s\u001B[0m 150ms/step - accuracy: 0.3729 - loss: 1.7190\n",
      "Epoch 2/10\n",
      "\u001B[1m1563/1563\u001B[0m \u001B[32m━━━━━━━━━━━━━━━━━━━━\u001B[0m\u001B[37m\u001B[0m \u001B[1m127s\u001B[0m 81ms/step - accuracy: 0.5917 - loss: 1.1584\n",
      "Epoch 3/10\n",
      "\u001B[1m1563/1563\u001B[0m \u001B[32m━━━━━━━━━━━━━━━━━━━━\u001B[0m\u001B[37m\u001B[0m \u001B[1m129s\u001B[0m 82ms/step - accuracy: 0.6518 - loss: 1.0065\n",
      "Epoch 4/10\n",
      "\u001B[1m1563/1563\u001B[0m \u001B[32m━━━━━━━━━━━━━━━━━━━━\u001B[0m\u001B[37m\u001B[0m \u001B[1m165s\u001B[0m 105ms/step - accuracy: 0.6797 - loss: 0.9135\n",
      "Epoch 5/10\n",
      "\u001B[1m1563/1563\u001B[0m \u001B[32m━━━━━━━━━━━━━━━━━━━━\u001B[0m\u001B[37m\u001B[0m \u001B[1m213s\u001B[0m 112ms/step - accuracy: 0.7075 - loss: 0.8351\n",
      "Epoch 6/10\n",
      "\u001B[1m1563/1563\u001B[0m \u001B[32m━━━━━━━━━━━━━━━━━━━━\u001B[0m\u001B[37m\u001B[0m \u001B[1m224s\u001B[0m 141ms/step - accuracy: 0.7276 - loss: 0.7785\n",
      "Epoch 7/10\n",
      "\u001B[1m1563/1563\u001B[0m \u001B[32m━━━━━━━━━━━━━━━━━━━━\u001B[0m\u001B[37m\u001B[0m \u001B[1m166s\u001B[0m 106ms/step - accuracy: 0.7453 - loss: 0.7333\n",
      "Epoch 8/10\n",
      "\u001B[1m1563/1563\u001B[0m \u001B[32m━━━━━━━━━━━━━━━━━━━━\u001B[0m\u001B[37m\u001B[0m \u001B[1m204s\u001B[0m 131ms/step - accuracy: 0.7537 - loss: 0.7003\n",
      "Epoch 9/10\n",
      "\u001B[1m1563/1563\u001B[0m \u001B[32m━━━━━━━━━━━━━━━━━━━━\u001B[0m\u001B[37m\u001B[0m \u001B[1m126s\u001B[0m 80ms/step - accuracy: 0.7713 - loss: 0.6570\n",
      "Epoch 10/10\n",
      "\u001B[1m1563/1563\u001B[0m \u001B[32m━━━━━━━━━━━━━━━━━━━━\u001B[0m\u001B[37m\u001B[0m \u001B[1m156s\u001B[0m 89ms/step - accuracy: 0.7830 - loss: 0.6195\n"
     ]
    },
    {
     "data": {
      "text/plain": [
       "<keras.src.callbacks.history.History at 0x1fcff039ac0>"
      ]
     },
     "execution_count": 23,
     "metadata": {},
     "output_type": "execute_result"
    }
   ],
   "execution_count": 23
  },
  {
   "metadata": {
    "ExecuteTime": {
     "end_time": "2025-07-19T06:45:10.933212600Z",
     "start_time": "2025-07-19T06:40:51.448647Z"
    }
   },
   "cell_type": "code",
   "source": " cnn.evaluate(X_test, y_test)",
   "id": "7d72d2dc951064df",
   "outputs": [
    {
     "ename": "NameError",
     "evalue": "name 'cnn' is not defined",
     "output_type": "error",
     "traceback": [
      "\u001B[31m---------------------------------------------------------------------------\u001B[39m",
      "\u001B[31mNameError\u001B[39m                                 Traceback (most recent call last)",
      "\u001B[36mCell\u001B[39m\u001B[36m \u001B[39m\u001B[32mIn[3]\u001B[39m\u001B[32m, line 1\u001B[39m\n\u001B[32m----> \u001B[39m\u001B[32m1\u001B[39m \u001B[43mcnn\u001B[49m.evaluate(X_test, y_test)\n",
      "\u001B[31mNameError\u001B[39m: name 'cnn' is not defined"
     ]
    }
   ],
   "execution_count": 3
  },
  {
   "metadata": {
    "ExecuteTime": {
     "end_time": "2025-07-19T06:45:10.934214500Z",
     "start_time": "2025-07-19T06:37:27.168784Z"
    }
   },
   "cell_type": "code",
   "source": [
    "y_pred = cnn.predict(X_test)\n",
    "y_pred[:5]"
   ],
   "id": "55625a17c3f1066f",
   "outputs": [
    {
     "ename": "NameError",
     "evalue": "name 'cnn' is not defined",
     "output_type": "error",
     "traceback": [
      "\u001B[31m---------------------------------------------------------------------------\u001B[39m",
      "\u001B[31mNameError\u001B[39m                                 Traceback (most recent call last)",
      "\u001B[36mCell\u001B[39m\u001B[36m \u001B[39m\u001B[32mIn[1]\u001B[39m\u001B[32m, line 1\u001B[39m\n\u001B[32m----> \u001B[39m\u001B[32m1\u001B[39m y_pred = \u001B[43mcnn\u001B[49m.predict(X_test)\n\u001B[32m      2\u001B[39m y_pred[:\u001B[32m5\u001B[39m]\n",
      "\u001B[31mNameError\u001B[39m: name 'cnn' is not defined"
     ]
    }
   ],
   "execution_count": 1
  },
  {
   "metadata": {},
   "cell_type": "code",
   "outputs": [],
   "execution_count": null,
   "source": [
    "y_classes = [np.argmax(element) for element in y_pred]\n",
    "y_classes[:5]"
   ],
   "id": "121ba994dae096b"
  },
  {
   "metadata": {},
   "cell_type": "code",
   "outputs": [],
   "execution_count": null,
   "source": [
    " y_test = y_test.reshape(-1,)\n",
    " y_test[:5]"
   ],
   "id": "d1a19f05cb1f6c52"
  },
  {
   "metadata": {},
   "cell_type": "code",
   "outputs": [],
   "execution_count": null,
   "source": "plot_sample(X_test, y_test, 3)",
   "id": "7cd9cc5d5032956c"
  },
  {
   "metadata": {},
   "cell_type": "code",
   "outputs": [],
   "execution_count": null,
   "source": "classes[y_classes[3]]",
   "id": "3653800173bd530f"
  },
  {
   "metadata": {},
   "cell_type": "code",
   "outputs": [],
   "execution_count": null,
   "source": "classes[y_classes[3]]",
   "id": "a3f0af4c0980884d"
  }
 ],
 "metadata": {
  "kernelspec": {
   "display_name": "Python 3",
   "language": "python",
   "name": "python3"
  },
  "language_info": {
   "codemirror_mode": {
    "name": "ipython",
    "version": 2
   },
   "file_extension": ".py",
   "mimetype": "text/x-python",
   "name": "python",
   "nbconvert_exporter": "python",
   "pygments_lexer": "ipython2",
   "version": "2.7.6"
  }
 },
 "nbformat": 4,
 "nbformat_minor": 5
}
