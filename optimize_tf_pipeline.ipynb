{
 "cells": [
  {
   "metadata": {},
   "cell_type": "markdown",
   "source": "Prefetch & Caching",
   "id": "a2e457341a1950eb"
  },
  {
   "cell_type": "code",
   "id": "initial_id",
   "metadata": {
    "collapsed": true,
    "ExecuteTime": {
     "end_time": "2025-07-21T06:01:46.814413Z",
     "start_time": "2025-07-21T06:01:06.605312Z"
    }
   },
   "source": [
    "import tensorflow as tf\n",
    "import time"
   ],
   "outputs": [],
   "execution_count": 1
  },
  {
   "metadata": {
    "ExecuteTime": {
     "end_time": "2025-07-21T06:01:46.859090Z",
     "start_time": "2025-07-21T06:01:46.841017Z"
    }
   },
   "cell_type": "code",
   "source": "tf.__version__",
   "id": "1a04e1e6b9b43272",
   "outputs": [
    {
     "data": {
      "text/plain": [
       "'2.19.0'"
      ]
     },
     "execution_count": 2,
     "metadata": {},
     "output_type": "execute_result"
    }
   ],
   "execution_count": 2
  },
  {
   "metadata": {
    "ExecuteTime": {
     "end_time": "2025-07-21T06:14:40.965785Z",
     "start_time": "2025-07-21T06:14:40.917767Z"
    }
   },
   "cell_type": "code",
   "source": [
    "class FileDataset(tf.data.Dataset):\n",
    "    def read_files_in_batches(num_samples):\n",
    "        # open files\n",
    "        time.sleep(0.03)\n",
    "        for sample_idx in range(num_samples):\n",
    "            time.sleep(0.015)\n",
    "            yield(sample_idx,)\n",
    "\n",
    "    def __new__(cls, num_samples=3):\n",
    "        print(\"new called\")\n",
    "        return tf.data.Dataset.from_generator(\n",
    "            cls.read_files_in_batches,\n",
    "            output_signature=tf.TensorSpec(shape=(1,), dtype=tf.int64),\n",
    "            args=(num_samples,)\n",
    "        )\n",
    "\n",
    "\n",
    "\n"
   ],
   "id": "befee18fc658e2d0",
   "outputs": [],
   "execution_count": 21
  },
  {
   "metadata": {
    "ExecuteTime": {
     "end_time": "2025-07-21T06:14:43.800334Z",
     "start_time": "2025-07-21T06:14:43.789334Z"
    }
   },
   "cell_type": "code",
   "source": [
    "# artificial delay\n",
    "def benchmark(dataset, num_epochs=2):\n",
    "# def train(dataset, num_epochs=2):\n",
    "    for epoch_num in range(num_epochs):\n",
    "        for sample in dataset:\n",
    "            time.sleep(0.001)\n",
    "\n",
    "def benchmark(dataset, num_epochs=2):\n",
    "    for epoch_num in range(num_epochs):\n",
    "        for sample in dataset:\n",
    "            # Performing a training step\n",
    "            time.sleep(0.01)"
   ],
   "id": "471f63932e0acfe4",
   "outputs": [],
   "execution_count": 22
  },
  {
   "metadata": {
    "ExecuteTime": {
     "end_time": "2025-07-21T06:14:51.302039Z",
     "start_time": "2025-07-21T06:14:46.526270Z"
    }
   },
   "cell_type": "code",
   "source": [
    "%%timeit\n",
    "benchmark(FileDataset())"
   ],
   "id": "668d758cf471e6be",
   "outputs": [
    {
     "name": "stdout",
     "output_type": "stream",
     "text": [
      "new called\n",
      "new called\n",
      "new called\n",
      "new called\n",
      "new called\n",
      "new called\n",
      "new called\n",
      "new called\n",
      "393 ms ± 56.6 ms per loop (mean ± std. dev. of 7 runs, 1 loop each)\n"
     ]
    }
   ],
   "execution_count": 23
  },
  {
   "metadata": {
    "ExecuteTime": {
     "end_time": "2025-07-21T06:16:12.250259Z",
     "start_time": "2025-07-21T06:16:07.114159Z"
    }
   },
   "cell_type": "code",
   "source": [
    "%%timeit\n",
    "benchmark(FileDataset().prefetch(1))"
   ],
   "id": "bb245169b28ff369",
   "outputs": [
    {
     "name": "stdout",
     "output_type": "stream",
     "text": [
      "new called\n",
      "new called\n",
      "new called\n",
      "new called\n",
      "new called\n",
      "new called\n",
      "new called\n",
      "new called\n",
      "547 ms ± 147 ms per loop (mean ± std. dev. of 7 runs, 1 loop each)\n"
     ]
    }
   ],
   "execution_count": 26
  },
  {
   "metadata": {
    "ExecuteTime": {
     "end_time": "2025-07-21T06:16:54.745899Z",
     "start_time": "2025-07-21T06:16:50.617958Z"
    }
   },
   "cell_type": "code",
   "source": [
    "%%timeit\n",
    "benchmark(FileDataset().prefetch(tf.data.AUTOTUNE))"
   ],
   "id": "ab16e11ce025455d",
   "outputs": [
    {
     "name": "stdout",
     "output_type": "stream",
     "text": [
      "new called\n",
      "new called\n",
      "new called\n",
      "new called\n",
      "new called\n",
      "new called\n",
      "new called\n",
      "new called\n",
      "526 ms ± 174 ms per loop (mean ± std. dev. of 7 runs, 1 loop each)\n"
     ]
    }
   ],
   "execution_count": 27
  },
  {
   "metadata": {},
   "cell_type": "markdown",
   "source": "Cache API",
   "id": "cc3bdf412e2c33b1"
  },
  {
   "metadata": {
    "ExecuteTime": {
     "end_time": "2025-07-21T06:19:27.964887Z",
     "start_time": "2025-07-21T06:19:26.855816Z"
    }
   },
   "cell_type": "code",
   "source": [
    "dataset = tf.data.Dataset.range(5)\n",
    "for d in dataset:\n",
    "    print(d.numpy())"
   ],
   "id": "4df91c65f3b02fdd",
   "outputs": [
    {
     "name": "stdout",
     "output_type": "stream",
     "text": [
      "0\n",
      "1\n",
      "2\n",
      "3\n",
      "4\n"
     ]
    }
   ],
   "execution_count": 28
  },
  {
   "metadata": {
    "ExecuteTime": {
     "end_time": "2025-07-21T06:20:20.399246Z",
     "start_time": "2025-07-21T06:20:18.926319Z"
    }
   },
   "cell_type": "code",
   "source": [
    "dataset = dataset.map(lambda x: x**2)\n",
    "for d in dataset:\n",
    "    print(d.numpy())"
   ],
   "id": "2ba7bf87448477a3",
   "outputs": [
    {
     "name": "stdout",
     "output_type": "stream",
     "text": [
      "0\n",
      "1\n",
      "4\n",
      "9\n",
      "16\n"
     ]
    }
   ],
   "execution_count": 29
  },
  {
   "metadata": {
    "ExecuteTime": {
     "end_time": "2025-07-21T06:20:59.179885Z",
     "start_time": "2025-07-21T06:20:58.903495Z"
    }
   },
   "cell_type": "code",
   "source": [
    "dataset = dataset.cache()\n",
    "list(dataset.as_numpy_iterator())"
   ],
   "id": "6954628863ffec73",
   "outputs": [
    {
     "data": {
      "text/plain": [
       "[0, 1, 4, 9, 16]"
      ]
     },
     "execution_count": 30,
     "metadata": {},
     "output_type": "execute_result"
    }
   ],
   "execution_count": 30
  },
  {
   "metadata": {
    "ExecuteTime": {
     "end_time": "2025-07-21T06:21:17.380496Z",
     "start_time": "2025-07-21T06:21:17.320390Z"
    }
   },
   "cell_type": "code",
   "source": "list(dataset.as_numpy_iterator())",
   "id": "7333823a36fad427",
   "outputs": [
    {
     "data": {
      "text/plain": [
       "[0, 1, 4, 9, 16]"
      ]
     },
     "execution_count": 31,
     "metadata": {},
     "output_type": "execute_result"
    }
   ],
   "execution_count": 31
  },
  {
   "metadata": {
    "ExecuteTime": {
     "end_time": "2025-07-21T06:22:58.044758Z",
     "start_time": "2025-07-21T06:22:57.660890Z"
    }
   },
   "cell_type": "code",
   "source": [
    "# creating dummy map fn. with some kind of dealay\n",
    "def mapped_function(s):\n",
    "    tf.py_function(lambda: time.sleep(0.03), [],())\n",
    "    return s"
   ],
   "id": "e44c1de326a43cf4",
   "outputs": [],
   "execution_count": 32
  },
  {
   "metadata": {
    "ExecuteTime": {
     "end_time": "2025-07-21T06:24:07.351400Z",
     "start_time": "2025-07-21T06:24:05.682697Z"
    }
   },
   "cell_type": "code",
   "source": [
    "%%timeit -n1 -r1\n",
    "benchmark(FileDataset().map(mapped_function), 5)"
   ],
   "id": "49cc0079f5985191",
   "outputs": [
    {
     "name": "stdout",
     "output_type": "stream",
     "text": [
      "new called\n",
      "1.62 s ± 0 ns per loop (mean ± std. dev. of 1 run, 1 loop each)\n"
     ]
    }
   ],
   "execution_count": 34
  },
  {
   "metadata": {
    "ExecuteTime": {
     "end_time": "2025-07-21T06:24:35.765649Z",
     "start_time": "2025-07-21T06:24:34.911149Z"
    }
   },
   "cell_type": "code",
   "source": [
    "%%timeit -n1 -r1\n",
    "# less time with cache fn.\n",
    "benchmark(FileDataset().map(mapped_function).cache(), 5)"
   ],
   "id": "f15c22371b5b360",
   "outputs": [
    {
     "name": "stdout",
     "output_type": "stream",
     "text": [
      "new called\n",
      "834 ms ± 0 ns per loop (mean ± std. dev. of 1 run, 1 loop each)\n"
     ]
    }
   ],
   "execution_count": 35
  }
 ],
 "metadata": {
  "kernelspec": {
   "display_name": "Python 3",
   "language": "python",
   "name": "python3"
  },
  "language_info": {
   "codemirror_mode": {
    "name": "ipython",
    "version": 2
   },
   "file_extension": ".py",
   "mimetype": "text/x-python",
   "name": "python",
   "nbconvert_exporter": "python",
   "pygments_lexer": "ipython2",
   "version": "2.7.6"
  }
 },
 "nbformat": 4,
 "nbformat_minor": 5
}
