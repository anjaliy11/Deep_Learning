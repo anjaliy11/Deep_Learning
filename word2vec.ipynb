{
 "cells": [
  {
   "cell_type": "code",
   "id": "initial_id",
   "metadata": {
    "collapsed": true,
    "ExecuteTime": {
     "end_time": "2025-07-19T12:59:56.168666Z",
     "start_time": "2025-07-19T12:59:56.152517Z"
    }
   },
   "source": [
    "import gensim\n",
    "\n",
    "import pandas as pd\n"
   ],
   "outputs": [],
   "execution_count": 17
  },
  {
   "metadata": {
    "ExecuteTime": {
     "end_time": "2025-07-19T12:47:45.612855Z",
     "start_time": "2025-07-19T12:47:36.950790Z"
    }
   },
   "cell_type": "code",
   "source": [
    "items_df = pd.read_csv(r\"C:\\Users\\anjal\\OneDrive\\Documents\\Deep-learning\\20191226-items.csv\")\n",
    "\n",
    "# Read the reviews CSV\n",
    "reviews_df = pd.read_csv(r\"C:\\Users\\anjal\\OneDrive\\Documents\\Deep-learning\\20191226-reviews.csv\")\n",
    "\n"
   ],
   "id": "ad93959755806035",
   "outputs": [],
   "execution_count": 4
  },
  {
   "metadata": {
    "ExecuteTime": {
     "end_time": "2025-07-19T12:48:55.185472Z",
     "start_time": "2025-07-19T12:48:54.978618Z"
    }
   },
   "cell_type": "code",
   "source": [
    "print(\"Items columns:\", items_df.columns.tolist())\n",
    "print(\"Reviews columns:\", reviews_df.columns.tolist())"
   ],
   "id": "586afda1bebf8024",
   "outputs": [
    {
     "name": "stdout",
     "output_type": "stream",
     "text": [
      "Items columns: ['asin', 'brand', 'title', 'url', 'image', 'rating', 'reviewUrl', 'totalReviews', 'price', 'originalPrice']\n",
      "Reviews columns: ['asin', 'name', 'rating', 'date', 'verified', 'title', 'body', 'helpfulVotes']\n"
     ]
    }
   ],
   "execution_count": 5
  },
  {
   "metadata": {
    "ExecuteTime": {
     "end_time": "2025-07-19T12:51:12.064655Z",
     "start_time": "2025-07-19T12:51:07.918707Z"
    }
   },
   "cell_type": "code",
   "source": [
    "merged_df = pd.merge(reviews_df, items_df, on='asin', how='inner')\n",
    "\n",
    "# Show merged result\n",
    "print(merged_df.head())"
   ],
   "id": "dd623a8db57bff15",
   "outputs": [
    {
     "name": "stdout",
     "output_type": "stream",
     "text": [
      "         asin           name  rating_x               date  verified  \\\n",
      "0  B0000SX2UC          Janet         3   October 11, 2005     False   \n",
      "1  B0000SX2UC     Luke Wyatt         1    January 7, 2004     False   \n",
      "2  B0000SX2UC         Brooke         5  December 30, 2003     False   \n",
      "3  B0000SX2UC  amy m. teague         3     March 18, 2004     False   \n",
      "4  B0000SX2UC  tristazbimmer         4    August 28, 2005     False   \n",
      "\n",
      "                                        title_x  \\\n",
      "0                   Def not best, but not worst   \n",
      "1                   Text Messaging Doesn't Work   \n",
      "2                               Love This Phone   \n",
      "3                       Love the Phone, BUT...!   \n",
      "4  Great phone service and options, lousy case!   \n",
      "\n",
      "                                                body  helpfulVotes brand  \\\n",
      "0  I had the Samsung A600 for awhile which is abs...           1.0   NaN   \n",
      "1  Due to a software issue between Nokia and Spri...          17.0   NaN   \n",
      "2  This is a great, reliable phone. I also purcha...           5.0   NaN   \n",
      "3  I love the phone and all, because I really did...           1.0   NaN   \n",
      "4  The phone has been great for every purpose it ...           1.0   NaN   \n",
      "\n",
      "                                             title_y  \\\n",
      "0  Dual-Band / Tri-Mode Sprint PCS Phone w/ Voice...   \n",
      "1  Dual-Band / Tri-Mode Sprint PCS Phone w/ Voice...   \n",
      "2  Dual-Band / Tri-Mode Sprint PCS Phone w/ Voice...   \n",
      "3  Dual-Band / Tri-Mode Sprint PCS Phone w/ Voice...   \n",
      "4  Dual-Band / Tri-Mode Sprint PCS Phone w/ Voice...   \n",
      "\n",
      "                                                 url  \\\n",
      "0  https://www.amazon.com/Dual-Band-Tri-Mode-Acti...   \n",
      "1  https://www.amazon.com/Dual-Band-Tri-Mode-Acti...   \n",
      "2  https://www.amazon.com/Dual-Band-Tri-Mode-Acti...   \n",
      "3  https://www.amazon.com/Dual-Band-Tri-Mode-Acti...   \n",
      "4  https://www.amazon.com/Dual-Band-Tri-Mode-Acti...   \n",
      "\n",
      "                                               image  rating_y  \\\n",
      "0  https://m.media-amazon.com/images/I/2143EBQ210...       3.0   \n",
      "1  https://m.media-amazon.com/images/I/2143EBQ210...       3.0   \n",
      "2  https://m.media-amazon.com/images/I/2143EBQ210...       3.0   \n",
      "3  https://m.media-amazon.com/images/I/2143EBQ210...       3.0   \n",
      "4  https://m.media-amazon.com/images/I/2143EBQ210...       3.0   \n",
      "\n",
      "                                           reviewUrl  totalReviews  price  \\\n",
      "0  https://www.amazon.com/product-reviews/B0000SX2UC            14    0.0   \n",
      "1  https://www.amazon.com/product-reviews/B0000SX2UC            14    0.0   \n",
      "2  https://www.amazon.com/product-reviews/B0000SX2UC            14    0.0   \n",
      "3  https://www.amazon.com/product-reviews/B0000SX2UC            14    0.0   \n",
      "4  https://www.amazon.com/product-reviews/B0000SX2UC            14    0.0   \n",
      "\n",
      "   originalPrice  \n",
      "0            0.0  \n",
      "1            0.0  \n",
      "2            0.0  \n",
      "3            0.0  \n",
      "4            0.0  \n"
     ]
    }
   ],
   "execution_count": 6
  },
  {
   "metadata": {
    "ExecuteTime": {
     "end_time": "2025-07-19T12:51:45.800754Z",
     "start_time": "2025-07-19T12:51:45.686762Z"
    }
   },
   "cell_type": "code",
   "source": "merged_df.shape",
   "id": "30deda12453b653b",
   "outputs": [
    {
     "data": {
      "text/plain": [
       "(67986, 17)"
      ]
     },
     "execution_count": 7,
     "metadata": {},
     "output_type": "execute_result"
    }
   ],
   "execution_count": 7
  },
  {
   "metadata": {
    "ExecuteTime": {
     "end_time": "2025-07-19T12:53:18.687234Z",
     "start_time": "2025-07-19T12:53:18.627190Z"
    }
   },
   "cell_type": "code",
   "source": "merged_df.title_x[0]",
   "id": "e896c1a85192b5bd",
   "outputs": [
    {
     "data": {
      "text/plain": [
       "'Def not best, but not worst'"
      ]
     },
     "execution_count": 9,
     "metadata": {},
     "output_type": "execute_result"
    }
   ],
   "execution_count": 9
  },
  {
   "metadata": {
    "ExecuteTime": {
     "end_time": "2025-07-19T13:00:43.003215Z",
     "start_time": "2025-07-19T13:00:39.549717Z"
    }
   },
   "cell_type": "code",
   "source": [
    "from gensim.utils import simple_preprocess\n",
    "import pandas as pd\n",
    "\n",
    "def safe_preprocess(x):\n",
    "    if isinstance(x, str):\n",
    "        return simple_preprocess(x)\n",
    "    else:\n",
    "        return []\n",
    "\n",
    "# Apply safely to title_x\n",
    "title_tokens = merged_df['title_x'].apply(safe_preprocess)\n"
   ],
   "id": "5f890ff165f4d9e4",
   "outputs": [],
   "execution_count": 18
  },
  {
   "metadata": {
    "ExecuteTime": {
     "end_time": "2025-07-19T13:01:04.847336Z",
     "start_time": "2025-07-19T13:01:04.751914Z"
    }
   },
   "cell_type": "code",
   "source": [
    "merged_df['title_tokens'] = title_tokens\n",
    "print(merged_df[['title_x', 'title_tokens']].head())\n"
   ],
   "id": "28bfbdcaf35e49d",
   "outputs": [
    {
     "name": "stdout",
     "output_type": "stream",
     "text": [
      "                                        title_x  \\\n",
      "0                   Def not best, but not worst   \n",
      "1                   Text Messaging Doesn't Work   \n",
      "2                               Love This Phone   \n",
      "3                       Love the Phone, BUT...!   \n",
      "4  Great phone service and options, lousy case!   \n",
      "\n",
      "                                        title_tokens  \n",
      "0                  [def, not, best, but, not, worst]  \n",
      "1                     [text, messaging, doesn, work]  \n",
      "2                                [love, this, phone]  \n",
      "3                            [love, the, phone, but]  \n",
      "4  [great, phone, service, and, options, lousy, c...  \n"
     ]
    }
   ],
   "execution_count": 19
  },
  {
   "metadata": {
    "ExecuteTime": {
     "end_time": "2025-07-19T13:02:57.085379Z",
     "start_time": "2025-07-19T13:02:52.341011Z"
    }
   },
   "cell_type": "code",
   "source": [
    "from gensim.utils import simple_preprocess\n",
    "\n",
    "review_text = merged_df['title_x'].apply(lambda x: simple_preprocess(x) if isinstance(x, str) else [])\n"
   ],
   "id": "ceb98ce135139d62",
   "outputs": [],
   "execution_count": 20
  },
  {
   "metadata": {
    "ExecuteTime": {
     "end_time": "2025-07-19T13:03:00.339520Z",
     "start_time": "2025-07-19T13:03:00.188981Z"
    }
   },
   "cell_type": "code",
   "source": "review_text.loc[0]",
   "id": "a682de5c695964a6",
   "outputs": [
    {
     "data": {
      "text/plain": [
       "['def', 'not', 'best', 'but', 'not', 'worst']"
      ]
     },
     "execution_count": 21,
     "metadata": {},
     "output_type": "execute_result"
    }
   ],
   "execution_count": 21
  },
  {
   "metadata": {
    "ExecuteTime": {
     "end_time": "2025-07-19T13:03:50.907159Z",
     "start_time": "2025-07-19T13:03:50.874856Z"
    }
   },
   "cell_type": "code",
   "source": [
    "model = gensim.models.Word2Vec(\n",
    "    window=10,\n",
    "    min_count=2,\n",
    "    workers=4,\n",
    ")"
   ],
   "id": "dc43e5a90e8d4ae4",
   "outputs": [],
   "execution_count": 25
  },
  {
   "metadata": {
    "ExecuteTime": {
     "end_time": "2025-07-19T13:03:54.925655Z",
     "start_time": "2025-07-19T13:03:54.499661Z"
    }
   },
   "cell_type": "code",
   "source": "model.build_vocab(review_text, progress_per=1000)",
   "id": "38e706baa66ed0e9",
   "outputs": [],
   "execution_count": 26
  },
  {
   "metadata": {
    "ExecuteTime": {
     "end_time": "2025-07-19T13:03:58.641397Z",
     "start_time": "2025-07-19T13:03:56.497537Z"
    }
   },
   "cell_type": "code",
   "source": "model.train(review_text, total_examples=model.corpus_count, epochs=model.epochs)",
   "id": "e9dde285130bc839",
   "outputs": [
    {
     "data": {
      "text/plain": [
       "(963277, 1432780)"
      ]
     },
     "execution_count": 27,
     "metadata": {},
     "output_type": "execute_result"
    }
   ],
   "execution_count": 27
  },
  {
   "metadata": {
    "ExecuteTime": {
     "end_time": "2025-07-19T13:04:05.083768Z",
     "start_time": "2025-07-19T13:04:05.043809Z"
    }
   },
   "cell_type": "code",
   "source": [
    "\n",
    "model.save(\"./word2vec-amazon-cell-accessories-reviews-short.model\")"
   ],
   "id": "8e751b589ce48934",
   "outputs": [],
   "execution_count": 28
  },
  {
   "metadata": {
    "ExecuteTime": {
     "end_time": "2025-07-19T13:04:14.297860Z",
     "start_time": "2025-07-19T13:04:14.259373Z"
    }
   },
   "cell_type": "code",
   "source": "model.wv.most_similar(\"bad\")",
   "id": "6c2aef957f306a84",
   "outputs": [
    {
     "data": {
      "text/plain": [
       "[('terrible', 0.8754389882087708),\n",
       " ('horrible', 0.8390907049179077),\n",
       " ('long', 0.7683793306350708),\n",
       " ('okay', 0.7662454843521118),\n",
       " ('poor', 0.7608432769775391),\n",
       " ('sucks', 0.7503284811973572),\n",
       " ('good', 0.7500685453414917),\n",
       " ('awful', 0.7446735501289368),\n",
       " ('nice', 0.7357691526412964),\n",
       " ('ok', 0.7332719564437866)]"
      ]
     },
     "execution_count": 29,
     "metadata": {},
     "output_type": "execute_result"
    }
   ],
   "execution_count": 29
  },
  {
   "metadata": {
    "ExecuteTime": {
     "end_time": "2025-07-19T13:04:21.952592Z",
     "start_time": "2025-07-19T13:04:21.934229Z"
    }
   },
   "cell_type": "code",
   "source": "model.wv.similarity(w1=\"cheap\", w2=\"inexpensive\")",
   "id": "44ab38c4b3173dd1",
   "outputs": [
    {
     "data": {
      "text/plain": [
       "0.88993746"
      ]
     },
     "execution_count": 30,
     "metadata": {},
     "output_type": "execute_result"
    }
   ],
   "execution_count": 30
  },
  {
   "metadata": {
    "ExecuteTime": {
     "end_time": "2025-07-19T13:04:24.458375Z",
     "start_time": "2025-07-19T13:04:24.442393Z"
    }
   },
   "cell_type": "code",
   "source": "model.wv.similarity(w1=\"great\", w2=\"good\")",
   "id": "c5ed71c2ed7b5bec",
   "outputs": [
    {
     "data": {
      "text/plain": [
       "0.912018"
      ]
     },
     "execution_count": 31,
     "metadata": {},
     "output_type": "execute_result"
    }
   ],
   "execution_count": 31
  },
  {
   "metadata": {},
   "cell_type": "code",
   "outputs": [],
   "execution_count": null,
   "source": "",
   "id": "2462a3367637bda3"
  }
 ],
 "metadata": {
  "kernelspec": {
   "display_name": "Python 3",
   "language": "python",
   "name": "python3"
  },
  "language_info": {
   "codemirror_mode": {
    "name": "ipython",
    "version": 2
   },
   "file_extension": ".py",
   "mimetype": "text/x-python",
   "name": "python",
   "nbconvert_exporter": "python",
   "pygments_lexer": "ipython2",
   "version": "2.7.6"
  }
 },
 "nbformat": 4,
 "nbformat_minor": 5
}
